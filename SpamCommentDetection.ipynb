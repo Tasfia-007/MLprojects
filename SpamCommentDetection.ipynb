{
  "nbformat": 4,
  "nbformat_minor": 0,
  "metadata": {
    "colab": {
      "provenance": [],
      "authorship_tag": "ABX9TyNCeZYot3/YwD9jtwh9gtoi",
      "include_colab_link": true
    },
    "kernelspec": {
      "name": "python3",
      "display_name": "Python 3"
    },
    "language_info": {
      "name": "python"
    }
  },
  "cells": [
    {
      "cell_type": "markdown",
      "metadata": {
        "id": "view-in-github",
        "colab_type": "text"
      },
      "source": [
        "<a href=\"https://colab.research.google.com/github/Tasfia-007/MLprojects/blob/main/SpamCommentDetection.ipynb\" target=\"_parent\"><img src=\"https://colab.research.google.com/assets/colab-badge.svg\" alt=\"Open In Colab\"/></a>"
      ]
    },
    {
      "cell_type": "code",
      "execution_count": 21,
      "metadata": {
        "colab": {
          "base_uri": "https://localhost:8080/"
        },
        "id": "4HRT06faw0Gc",
        "outputId": "090d77f4-9283-4de7-fc36-56a035c4a3b1"
      },
      "outputs": [
        {
          "output_type": "stream",
          "name": "stdout",
          "text": [
            "                                COMMENT_ID                 AUTHOR  \\\n",
            "32     z12wvpxppxz3ifk3j224cbsgqraherzrg04            ElepticRage   \n",
            "61   z12rc1ebfvrmufz5w04ccl2pmt3ih5dymq40k           fastestghost   \n",
            "237  z13iwppp5kf4gnyxn04cjns5kzn4xd0qdwk0k    juanmanuel cespedes   \n",
            "112      z12ftpab5svihfffz23kf3iiymiwjzesi         trespasser4000   \n",
            "303    z12cehoxozfgg3nok04cjj05xznbgrlpfjo  Elieo Cardiopulmonary   \n",
            "\n",
            "                    DATE                                            CONTENT  \\\n",
            "32   2014-01-19T08:55:53                  sub my channel for no reason -_-﻿   \n",
            "61   2014-01-21T02:09:22    The first comment is chuck norrus ovbiously :D﻿   \n",
            "237  2014-11-07T22:59:13  i hate this music. fucking singer and every ko...   \n",
            "112  2014-11-04T22:07:22                 This song never gets old love it.﻿   \n",
            "303  2014-11-08T15:29:52  im sorry for the spam but My name is Jenny. I ...   \n",
            "\n",
            "     CLASS  \n",
            "32       1  \n",
            "61       0  \n",
            "237      0  \n",
            "112      0  \n",
            "303      1  \n"
          ]
        }
      ],
      "source": [
        "import pandas as pd\n",
        "import numpy as np\n",
        "from sklearn.feature_extraction.text import CountVectorizer\n",
        "from sklearn.model_selection import train_test_split\n",
        "from sklearn.naive_bayes import BernoulliNB\n",
        "\n",
        "data = pd.read_csv('/content/Youtube01-Psy.csv')\n",
        "print(data.sample(5))"
      ]
    },
    {
      "cell_type": "code",
      "source": [
        "data=data[[\"CONTENT\",\"CLASS\"]]\n",
        "print(data.sample(5))"
      ],
      "metadata": {
        "colab": {
          "base_uri": "https://localhost:8080/"
        },
        "id": "ebU9JmXd0mQa",
        "outputId": "ce21ca9d-2e7c-4e38-fd68-d0c0a47ead4f"
      },
      "execution_count": 23,
      "outputs": [
        {
          "output_type": "stream",
          "name": "stdout",
          "text": [
            "                                               CONTENT  CLASS\n",
            "144  CHECK MY CHANNEL OUT PLEASE. I DO SINGING COVERS﻿      1\n",
            "211                               subscribe to me :) ﻿      1\n",
            "262  THIS HAS MORE VIEWS THAN QUEEN AND MICHAEL JAC...      0\n",
            "16                        I'm only checking the views﻿      0\n",
            "100  My videos are half way decent, check them out ...      1\n"
          ]
        }
      ]
    },
    {
      "cell_type": "code",
      "source": [
        "data[\"CLASS\"]=data[\"CLASS\"].map({0:\"Not Spam\",\n",
        "                                 1:\"Spam Comment\"})\n",
        "print(data.sample(5))"
      ],
      "metadata": {
        "colab": {
          "base_uri": "https://localhost:8080/"
        },
        "id": "rrbQLXjMxDWx",
        "outputId": "c1c6f8b9-d69a-4bc3-d2d8-695b5c68265d"
      },
      "execution_count": 24,
      "outputs": [
        {
          "output_type": "stream",
          "name": "stdout",
          "text": [
            "                                               CONTENT         CLASS\n",
            "129  Like getting Gift cards..but hate spending the...  Spam Comment\n",
            "89   Ching Ching ling long ding ring yaaaaaa Ganga ...      Not Spam\n",
            "72                                    Sub my channel!﻿  Spam Comment\n",
            "240  Dumb Guy: Why is there 2 billion views when th...      Not Spam\n",
            "322            I think he was drunk during this :) x)﻿      Not Spam\n"
          ]
        }
      ]
    },
    {
      "cell_type": "code",
      "source": [
        "x=np.array(data[\"CONTENT\"])\n",
        "y=np.array(data[\"CLASS\"])\n",
        "cv=CountVectorizer()\n",
        "x=cv.fit_transform(x)\n",
        "xtrain,xtest,ytrain,ytest=train_test_split(x,y,\n",
        "                                           test_size=0.2,\n",
        "                                           random_state=42)\n",
        "model=BernoulliNB()\n",
        "model.fit(xtrain,ytrain)\n",
        "print(model.score(xtest,ytest))"
      ],
      "metadata": {
        "colab": {
          "base_uri": "https://localhost:8080/"
        },
        "id": "SqBTDIr3yzs5",
        "outputId": "bf625b83-59a4-4b21-cf89-9f257c239b7a"
      },
      "execution_count": 25,
      "outputs": [
        {
          "output_type": "stream",
          "name": "stdout",
          "text": [
            "0.9857142857142858\n"
          ]
        }
      ]
    },
    {
      "cell_type": "code",
      "source": [
        "sample=\"Check this out:https://thecleverprogramming.com/\"\n",
        "data=cv.transform([sample]).toarray()\n",
        "print(model.predict(data))"
      ],
      "metadata": {
        "colab": {
          "base_uri": "https://localhost:8080/"
        },
        "id": "oksyGsqxxi5H",
        "outputId": "a1aeb3a3-3f1e-4344-97f0-68c106660f9c"
      },
      "execution_count": 27,
      "outputs": [
        {
          "output_type": "stream",
          "name": "stdout",
          "text": [
            "['Spam Comment']\n"
          ]
        }
      ]
    },
    {
      "cell_type": "code",
      "source": [
        "sample=\"Hello There! I am Samiha\"\n",
        "data=cv.transform([sample]).toarray()\n",
        "print(model.predict(data))"
      ],
      "metadata": {
        "colab": {
          "base_uri": "https://localhost:8080/"
        },
        "id": "k_IWPIK72uT1",
        "outputId": "4915f390-51df-4050-ccf2-4579333bae10"
      },
      "execution_count": 29,
      "outputs": [
        {
          "output_type": "stream",
          "name": "stdout",
          "text": [
            "['Not Spam']\n"
          ]
        }
      ]
    }
  ]
}